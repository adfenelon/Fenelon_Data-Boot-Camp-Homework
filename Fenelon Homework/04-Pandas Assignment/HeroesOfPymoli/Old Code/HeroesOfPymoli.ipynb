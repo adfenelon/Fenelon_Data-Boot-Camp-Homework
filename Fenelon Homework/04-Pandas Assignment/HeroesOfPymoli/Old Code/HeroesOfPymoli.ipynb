{
 "cells": [
  {
   "cell_type": "markdown",
   "metadata": {},
   "source": [
    "### Heroes Of Pymoli Data Analysis\n",
    "* Of the 1163 active players, the vast majority are male (84%). There also exists, a smaller, but notable proportion of female players (14%).\n",
    "\n",
    "* Our peak age demographic falls between 20-24 (44.8%) with secondary groups falling between 15-19 (18.60%) and 25-29 (13.4%).  \n",
    "-----"
   ]
  },
  {
   "cell_type": "markdown",
   "metadata": {},
   "source": [
    "### Note\n",
    "* Instructions have been included for each segment. You do not have to follow them exactly, but they are included to help you think through the steps."
   ]
  },
  {
   "cell_type": "code",
   "execution_count": null,
   "metadata": {},
   "outputs": [],
   "source": [
    "# Dependencies and Setup\n",
    "import pandas as pd\n",
    "import numpy as np"
   ]
  },
  {
   "cell_type": "code",
   "execution_count": null,
   "metadata": {},
   "outputs": [],
   "source": [
    "# File to Load (Remember to Change These)\n",
    "video_games = \"Resources/purchase_data.csv\""
   ]
  },
  {
   "cell_type": "code",
   "execution_count": null,
   "metadata": {},
   "outputs": [],
   "source": [
    "# Read Purchasing File and store into Pandas data frame\n",
    "video_games_data = pd.read_csv(video_games)"
   ]
  },
  {
   "cell_type": "code",
   "execution_count": null,
   "metadata": {},
   "outputs": [],
   "source": [
    "#video_games_data.head(4)"
   ]
  },
  {
   "cell_type": "code",
   "execution_count": null,
   "metadata": {},
   "outputs": [],
   "source": [
    "#video_games_data.describe()"
   ]
  },
  {
   "cell_type": "code",
   "execution_count": null,
   "metadata": {},
   "outputs": [],
   "source": [
    "video_games_data.count()\n",
    "player_count = video_games_data.drop_duplicates(subset=\"SN\")"
   ]
  },
  {
   "cell_type": "code",
   "execution_count": null,
   "metadata": {},
   "outputs": [],
   "source": [
    "vg = video_games_data[\"SN\"].count()"
   ]
  },
  {
   "cell_type": "markdown",
   "metadata": {},
   "source": [
    "## Player Count"
   ]
  },
  {
   "cell_type": "markdown",
   "metadata": {},
   "source": [
    "* Display the total number of players\n"
   ]
  },
  {
   "cell_type": "code",
   "execution_count": null,
   "metadata": {},
   "outputs": [],
   "source": [
    "z=player_count[\"SN\"].count()"
   ]
  },
  {
   "cell_type": "code",
   "execution_count": null,
   "metadata": {},
   "outputs": [],
   "source": [
    "#Display the total Number of Players\n",
    "z_table= pd.DataFrame([{\"Players Count\": z}])\n",
    "z_table"
   ]
  },
  {
   "cell_type": "code",
   "execution_count": null,
   "metadata": {},
   "outputs": [],
   "source": [
    "gender_count =video_games_data.groupby(\"Gender\").count()"
   ]
  },
  {
   "cell_type": "code",
   "execution_count": null,
   "metadata": {},
   "outputs": [],
   "source": [
    "players_count = video_games_data.groupby(\"SN\").count()"
   ]
  },
  {
   "cell_type": "code",
   "execution_count": null,
   "metadata": {},
   "outputs": [],
   "source": [
    "#video_games_data.columns"
   ]
  },
  {
   "cell_type": "markdown",
   "metadata": {},
   "source": [
    "## Purchasing Analysis (Total)"
   ]
  },
  {
   "cell_type": "markdown",
   "metadata": {},
   "source": [
    "* Run basic calculations to obtain number of unique items, average price, etc.\n",
    "\n",
    "\n",
    "* Create a summary data frame to hold the results\n",
    "\n",
    "\n",
    "* Optional: give the displayed data cleaner formatting\n",
    "\n",
    "\n",
    "* Display the summary data frame\n"
   ]
  },
  {
   "cell_type": "code",
   "execution_count": null,
   "metadata": {},
   "outputs": [],
   "source": [
    "# Run basic calculations to obtain number of unique items, average price, etc.\n",
    "Unique_Items = video_games_data.drop_duplicates(subset=\"Item ID\")\n",
    "x = Unique_Items[\"Item ID\"].count()\n",
    "average_price = video_games_data[\"Price\"].mean()\n",
    "Total_purchases = video_games_data[\"Purchase ID\"].count()\n",
    "Total_Revenue = video_games_data[\"Price\"].sum()"
   ]
  },
  {
   "cell_type": "code",
   "execution_count": null,
   "metadata": {},
   "outputs": [],
   "source": [
    "#Create a summary data frame to hold the results\n",
    "Purchase_Analysis = pd.DataFrame({\"# of Unique Items\": [x], \"Average Price\":[average_price], \n",
    "                                  \"# Of Purchases\":[Total_purchases],\"Total Revnue\": [Total_Revenue]})"
   ]
  },
  {
   "cell_type": "code",
   "execution_count": null,
   "metadata": {},
   "outputs": [],
   "source": [
    "#Optional: give the displayed data cleaner formating\n",
    "Purchase_Analysis[\"Average Price\"] = Purchase_Analysis[\"Average Price\"].map(\"${:.2f}\".format)\n",
    "Purchase_Analysis[\"Total Revnue\"] = Purchase_Analysis[\"Total Revnue\"].map(\"${:,.2f}\".format)\n"
   ]
  },
  {
   "cell_type": "code",
   "execution_count": null,
   "metadata": {},
   "outputs": [],
   "source": [
    "#Display the Summary data frame:\n",
    "Purchase_Analysis"
   ]
  },
  {
   "cell_type": "markdown",
   "metadata": {},
   "source": [
    "## Gender Demographics"
   ]
  },
  {
   "cell_type": "markdown",
   "metadata": {},
   "source": [
    "* Percentage and Count of Male Players\n",
    "\n",
    "\n",
    "* Percentage and Count of Female Players\n",
    "\n",
    "\n",
    "* Percentage and Count of Other / Non-Disclosed\n",
    "\n",
    "\n"
   ]
  },
  {
   "cell_type": "code",
   "execution_count": null,
   "metadata": {},
   "outputs": [],
   "source": [
    "gender_count = player_count.groupby(\"Gender\").count()[\"Age\"]"
   ]
  },
  {
   "cell_type": "code",
   "execution_count": null,
   "metadata": {},
   "outputs": [],
   "source": [
    "#Percentage and Count of Male Players\n",
    "#Percentage and count of Female Players\n",
    "#Percentage and Count of Other/Non-Disclosed\n",
    "gender_percentage = (gender_count/z)*100"
   ]
  },
  {
   "cell_type": "code",
   "execution_count": null,
   "metadata": {},
   "outputs": [],
   "source": [
    "demographic_Analysis = pd.DataFrame({\"Total Count\": gender_count,\"% of Players\":gender_percentage})\n",
    "DA=demographic_Analysis.round(2)\n",
    "DA.sort_values(\"Total Count\",ascending=False)"
   ]
  },
  {
   "cell_type": "markdown",
   "metadata": {},
   "source": [
    "\n",
    "## Purchasing Analysis (Gender)"
   ]
  },
  {
   "cell_type": "markdown",
   "metadata": {},
   "source": [
    "* Run basic calculations to obtain purchase count, avg. purchase price, avg. purchase total per person etc. by gender\n",
    "\n",
    "\n",
    "\n",
    "\n",
    "* Create a summary data frame to hold the results\n",
    "\n",
    "\n",
    "* Optional: give the displayed data cleaner formatting\n",
    "\n",
    "\n",
    "* Display the summary data frame"
   ]
  },
  {
   "cell_type": "code",
   "execution_count": null,
   "metadata": {},
   "outputs": [],
   "source": [
    "#player_count.head(4)"
   ]
  },
  {
   "cell_type": "code",
   "execution_count": null,
   "metadata": {},
   "outputs": [],
   "source": [
    "#Run basic calculations to obtain purchase count, avg. purchase, avg. purchase total per person etc. by gender\n",
    "purchase_count = video_games_data.groupby(\"Gender\").count()[\"Item ID\"]\n",
    "average_purchase = video_games_data.groupby(\"Gender\").mean()[\"Price\"]\n",
    "total_purchase_value =video_games_data.groupby(\"Gender\").sum()[\"Price\"]\n",
    "average_pp_person = total_purchase_value/gender_count"
   ]
  },
  {
   "cell_type": "code",
   "execution_count": null,
   "metadata": {},
   "outputs": [],
   "source": [
    "#Create a Summary data frame to hold the results\n",
    "Purchasing_Analysis_Gender = pd.DataFrame({\"Purchase Count\": purchase_count,\"Avg. Purchase Price\":average_purchase,\n",
    "                                    \"Total Purchase Value\":total_purchase_value, \n",
    "                                    \"Avg. Total Purchase Per Person\":average_pp_person})"
   ]
  },
  {
   "cell_type": "code",
   "execution_count": null,
   "metadata": {},
   "outputs": [],
   "source": [
    "#Optional: give the displayed data cleaner formating\n",
    "#Purchasing_Analysis_Gender[\"Total Purchase Value\"]=Purchasing_Analysis_Gender[\"Total Purchase Value\"].map(\"${:,.2f}\".format)\n",
    "#Purchasing_Analysis_Gender[\"Avg. Purchase Price\"]=Purchasing_Analysis_Gender[\"Avg. Purchase Price\"].map(\"${:,.2f}\".format)\n",
    "#Purchasing_Analysis_Gender[\"Avg. Total Purchase Per Person\"] = Purchasing_Analysis_Gender[\"Avg. Total Purchase Per Person\"].map(\"${:.2f}\".format)"
   ]
  },
  {
   "cell_type": "code",
   "execution_count": null,
   "metadata": {},
   "outputs": [],
   "source": [
    "#Display Summary data frame\n",
    "Purchasing_Analysis_Gender"
   ]
  },
  {
   "cell_type": "markdown",
   "metadata": {},
   "source": [
    "## Age Demographics"
   ]
  },
  {
   "cell_type": "markdown",
   "metadata": {},
   "source": [
    "* Establish bins for ages\n",
    "\n",
    "\n",
    "* Categorize the existing players using the age bins. Hint: use pd.cut()\n",
    "\n",
    "\n",
    "* Calculate the numbers and percentages by age group\n",
    "\n",
    "\n",
    "* Create a summary data frame to hold the results\n",
    "\n",
    "\n",
    "* Optional: round the percentage column to two decimal points\n",
    "\n",
    "\n",
    "* Display Age Demographics Table\n"
   ]
  },
  {
   "cell_type": "code",
   "execution_count": null,
   "metadata": {},
   "outputs": [],
   "source": [
    "player_count.head()\n",
    "player_count[\"Age\"].head()\n",
    "player_count[\"Age\"].min()\n",
    "player_count[\"Age\"].max()"
   ]
  },
  {
   "cell_type": "code",
   "execution_count": null,
   "metadata": {
    "scrolled": true
   },
   "outputs": [],
   "source": [
    "\n",
    "age_bin = [0,9,14,19,24,29,34,39,100]\n",
    "age_group = [\"<10\",\"10-14\", \"15-19\", \"20-24\", \"25-29\", \"30-34\", \"35-39\", \"40+\"]\n",
    "player_count[\"Age Group\"]=pd.cut(player_count[\"Age\"], age_bin, labels=age_group)"
   ]
  },
  {
   "cell_type": "code",
   "execution_count": null,
   "metadata": {},
   "outputs": [],
   "source": [
    "Total_Count_By_Age = player_count.groupby(\"Age Group\").count()[\"SN\"]"
   ]
  },
  {
   "cell_type": "code",
   "execution_count": null,
   "metadata": {},
   "outputs": [],
   "source": [
    "players = player_count[\"SN\"].count()"
   ]
  },
  {
   "cell_type": "code",
   "execution_count": null,
   "metadata": {},
   "outputs": [],
   "source": [
    "Percentage_of_Players = (Total_Count_By_Age/players)*100"
   ]
  },
  {
   "cell_type": "code",
   "execution_count": null,
   "metadata": {},
   "outputs": [],
   "source": [
    "#Create Summary data frame to hold the results\n",
    "Age_Demographic_Analysis = pd.DataFrame({\"Total Count\": Total_Count_By_Age,\"% of Players\":Percentage_of_Players})\n",
    "ADA = Age_Demographic_Analysis.sort_values(\"Age Group\",ascending=True)"
   ]
  },
  {
   "cell_type": "code",
   "execution_count": null,
   "metadata": {},
   "outputs": [],
   "source": [
    "#optional: Round the percentage column to two desimal points\n",
    "#Display Age Dempgraphic Table\n",
    "\n",
    "ADA.round(2)"
   ]
  },
  {
   "cell_type": "markdown",
   "metadata": {},
   "source": [
    "## Purchasing Analysis (Age)"
   ]
  },
  {
   "cell_type": "markdown",
   "metadata": {},
   "source": [
    "* Bin the purchase_data data frame by age\n",
    "\n",
    "\n",
    "* Run basic calculations to obtain purchase count, avg. purchase price, avg. purchase total per person etc. in the table below\n",
    "\n",
    "\n",
    "* Create a summary data frame to hold the results\n",
    "\n",
    "\n",
    "* Optional: give the displayed data cleaner formatting\n",
    "\n",
    "\n",
    "* Display the summary data frame"
   ]
  },
  {
   "cell_type": "code",
   "execution_count": null,
   "metadata": {},
   "outputs": [],
   "source": [
    "#Bin purchase_data frame by age\n",
    "age_bin = [0,9,14,19,24,29,34,39,100]\n",
    "age_group = [\"<10\",\"10-14\", \"15-19\", \"20-24\", \"25-29\", \"30-34\", \"35-39\", \"40+\"]\n"
   ]
  },
  {
   "cell_type": "code",
   "execution_count": null,
   "metadata": {},
   "outputs": [],
   "source": [
    "\n",
    "video_games_data[\"Age Group\"]=pd.cut(video_games_data[\"Age\"], age_bin, labels=age_group)"
   ]
  },
  {
   "cell_type": "code",
   "execution_count": null,
   "metadata": {},
   "outputs": [],
   "source": [
    "#Run basic calculations to obtain purchase count, avg. purchase price, avg. purchase total per person, etc. in the table \n",
    "#below\n",
    "age_purchase_count = video_games_data.groupby(\"Age Group\").count()[\"Price\"]\n",
    "age_average_purchase_price = video_games_data.groupby(\"Age Group\").mean()[\"Price\"]\n",
    "age_total_purchase_value = video_games_data.groupby(\"Age Group\").sum()[\"Price\"]\n",
    "age_average_purchase_per_person =age_total_purchase_value/age_purchase_count"
   ]
  },
  {
   "cell_type": "code",
   "execution_count": null,
   "metadata": {},
   "outputs": [],
   "source": [
    "#Create a summary data frame to hold the results\n",
    "Age_Purchase_Analysis = pd.DataFrame({\"Purchase Count\": age_purchase_count,\"Avg. Purchase Price\":age_average_purchase_price,\n",
    "                                     \"Ttl. Purchase Value\":age_total_purchase_value,\"Avg. Purchase per Person\":age_average_purchase_per_person})"
   ]
  },
  {
   "cell_type": "code",
   "execution_count": null,
   "metadata": {},
   "outputs": [],
   "source": [
    "#Optional: give the display data cleaner formatting\n",
    "#Age_Purchase_Analysis[\"age_average_purchase_price\"]=Age_Purchase_Analysis[\"age_average_purchase_price\"].map(\"${:,.2f}\".format)\n",
    "#Age_Purchase_Analysis[\"age_total_purchase_value\"]=Age_Purchase_Analysis[\"age_total_purchase_value\"].map(\"${:,.2f}\".format)\n",
    "#Age_Purchase_Analysis[\"age_average_purchase_per_person\"] = Age_Purchase_Analysis[\"age_average_purchase_per_person\"].map(\"${:.2f}\".format)"
   ]
  },
  {
   "cell_type": "code",
   "execution_count": null,
   "metadata": {},
   "outputs": [],
   "source": [
    "#Display the summary data frame\n",
    "Age_Purchase_Analysis.round(2)"
   ]
  },
  {
   "cell_type": "markdown",
   "metadata": {},
   "source": [
    "## Top Spenders"
   ]
  },
  {
   "cell_type": "markdown",
   "metadata": {},
   "source": [
    "* Run basic calculations to obtain the results in the table below\n",
    "\n",
    "\n",
    "* Create a summary data frame to hold the results\n",
    "\n",
    "\n",
    "* Sort the total purchase value column in descending order\n",
    "\n",
    "\n",
    "* Optional: give the displayed data cleaner formatting\n",
    "\n",
    "\n",
    "* Display a preview of the summary data frame\n",
    "\n"
   ]
  },
  {
   "cell_type": "code",
   "execution_count": null,
   "metadata": {},
   "outputs": [],
   "source": [
    "#video_games_data.head()"
   ]
  },
  {
   "cell_type": "code",
   "execution_count": null,
   "metadata": {},
   "outputs": [],
   "source": [
    "SN_purchase_count = video_games_data.groupby(\"SN\").count()[\"Item ID\"]\n",
    "SN_average_purchase = video_games_data.groupby(\"SN\").mean()[\"Price\"]\n",
    "SN_total_purchase_value =SN_purchase_count*SN_average_purchase"
   ]
  },
  {
   "cell_type": "code",
   "execution_count": null,
   "metadata": {},
   "outputs": [],
   "source": [
    "Top_Spender_Analysis = pd.DataFrame({\"Purchase Count\": SN_purchase_count,\"Avg Purchase Price\":SN_average_purchase,\n",
    "                                     \"Ttl Purchase Value\":SN_total_purchase_value })"
   ]
  },
  {
   "cell_type": "code",
   "execution_count": null,
   "metadata": {},
   "outputs": [],
   "source": [
    "#Top_Spender_Analysis.sort_values(\"Ttl Purchase Value\",ascending=False)\n",
    "TSA = Top_Spender_Analysis.sort_values(\"Ttl Purchase Value\",ascending=False)"
   ]
  },
  {
   "cell_type": "code",
   "execution_count": null,
   "metadata": {},
   "outputs": [],
   "source": [
    "TSA[\"Avg Purchase Price\"]=TSA[\"Avg Purchase Price\"].map(\"${:,.2f}\".format)\n",
    "TSA[\"Ttl Purchase Value\"]=TSA[\"Ttl Purchase Value\"].map(\"${:,.2f}\".format)"
   ]
  },
  {
   "cell_type": "code",
   "execution_count": null,
   "metadata": {},
   "outputs": [],
   "source": [
    "TSA.head()"
   ]
  },
  {
   "cell_type": "markdown",
   "metadata": {},
   "source": [
    "## Most Popular Items"
   ]
  },
  {
   "cell_type": "markdown",
   "metadata": {},
   "source": [
    "* Retrieve the Item ID, Item Name, and Item Price columns\n",
    "\n",
    "\n",
    "* Group by Item ID and Item Name. Perform calculations to obtain purchase count, item price, and total purchase value\n",
    "\n",
    "\n",
    "* Create a summary data frame to hold the results\n",
    "\n",
    "\n",
    "* Sort the purchase count column in descending order\n",
    "\n",
    "\n",
    "* Optional: give the displayed data cleaner formatting\n",
    "\n",
    "\n",
    "* Display a preview of the summary data frame\n",
    "\n"
   ]
  },
  {
   "cell_type": "code",
   "execution_count": null,
   "metadata": {},
   "outputs": [],
   "source": [
    "#Retrieve the Item ID, Item Name, and Item Price columns\n",
    "vga=video_games_data.groupby(['Item ID','Item Name','Price']).size()"
   ]
  },
  {
   "cell_type": "code",
   "execution_count": null,
   "metadata": {},
   "outputs": [],
   "source": [
    "#Retrieve the Item ID, Item Name and Price Columns \n",
    "ID_Item_price = video_games_data.groupby(['Item ID', 'Item Name']).sum()[\"Price\"]"
   ]
  },
  {
   "cell_type": "code",
   "execution_count": null,
   "metadata": {},
   "outputs": [],
   "source": [
    "#Group by Item ID and Item Name. Perform calculations to obtain purchase count, item price, and total purchase value\n",
    "IN_purchase_count = video_games_data.groupby(['Item ID','Item Name']).count()[\"SN\"]\n",
    "ID_Item_price = video_games_data.groupby(['Item ID','Item Name']).mean()[\"Price\"]\n",
    "IN_total_purchase_value =IN_purchase_count*ID_Item_price"
   ]
  },
  {
   "cell_type": "code",
   "execution_count": null,
   "metadata": {},
   "outputs": [],
   "source": [
    "#Create a summary data frame to hold the results\n",
    "Most_Popular_Items = pd.DataFrame({\"Purchase Count\": IN_purchase_count,\"Item Price\":ID_Item_price,\n",
    "                                     \"Total Purchase Value\":IN_total_purchase_value})"
   ]
  },
  {
   "cell_type": "code",
   "execution_count": null,
   "metadata": {},
   "outputs": [],
   "source": [
    "#Optional: give the displayed data cleaner formatting\n",
    "Most_Popular_Items[\"Item Price\"]=Most_Popular_Items[\"Item Price\"].map(\"${:,.2f}\".format)\n",
    "Most_Popular_Items[\"Total Purchase Value\"]=Most_Popular_Items[\"Total Purchase Value\"].map(\"${:,.2f}\".format)"
   ]
  },
  {
   "cell_type": "code",
   "execution_count": null,
   "metadata": {},
   "outputs": [],
   "source": [
    "#Most_Popular_Items.head()"
   ]
  },
  {
   "cell_type": "code",
   "execution_count": null,
   "metadata": {},
   "outputs": [],
   "source": [
    "#Sort the purchase count column in descending order\n",
    "MPI = Most_Popular_Items.sort_values(\"Purchase Count\", ascending=False)"
   ]
  },
  {
   "cell_type": "code",
   "execution_count": null,
   "metadata": {
    "scrolled": true
   },
   "outputs": [],
   "source": [
    "#Display a preview of the summary data frame\n",
    "MPI.head()"
   ]
  },
  {
   "cell_type": "code",
   "execution_count": null,
   "metadata": {
    "scrolled": true
   },
   "outputs": [],
   "source": [
    "#Sort the above table by total purchase value in descending order\n",
    "#Optional: give the displayed data cleaner formatting\n",
    "#Display a preview of the data frame\n",
    "k = Most_Popular_Items.sort_values([\"Total Purchase Value\"], ascending=False)"
   ]
  },
  {
   "cell_type": "code",
   "execution_count": null,
   "metadata": {},
   "outputs": [],
   "source": [
    "#Display a preview of the data frame\n",
    "k.head()"
   ]
  }
 ],
 "metadata": {
  "anaconda-cloud": {},
  "kernel_info": {
   "name": "python3"
  },
  "kernelspec": {
   "display_name": "Python 3",
   "language": "python",
   "name": "python3"
  },
  "language_info": {
   "codemirror_mode": {
    "name": "ipython",
    "version": 3
   },
   "file_extension": ".py",
   "mimetype": "text/x-python",
   "name": "python",
   "nbconvert_exporter": "python",
   "pygments_lexer": "ipython3",
   "version": "3.7.3"
  },
  "nteract": {
   "version": "0.2.0"
  }
 },
 "nbformat": 4,
 "nbformat_minor": 2
}
