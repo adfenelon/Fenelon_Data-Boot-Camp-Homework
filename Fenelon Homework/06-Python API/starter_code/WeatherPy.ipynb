{
 "cells": [
  {
   "cell_type": "markdown",
   "metadata": {},
   "source": [
    "# WeatherPy\n",
    "----\n",
    "\n",
    "#### Note\n",
    "* Instructions have been included for each segment. You do not have to follow them exactly, but they are included to help you think through the steps."
   ]
  },
  {
   "cell_type": "code",
   "execution_count": 1,
   "metadata": {
    "scrolled": true
   },
   "outputs": [],
   "source": [
    "# Dependencies and Setup\n",
    "import matplotlib.pyplot as plt\n",
    "import pandas as pd\n",
    "import numpy as np\n",
    "import requests\n",
    "import time\n",
    "import json\n",
    "from datetime import datetime\n",
    "\n",
    "# Import API key\n",
    "from api_keys import api_key\n",
    "\n",
    "# Incorporated citipy to determine city based on latitude and longitude\n",
    "from citipy import citipy\n",
    "\n",
    "# Output File (CSV)\n",
    "output_data_file = \"output_data/cities.csv\"\n",
    "\n",
    "# Range of latitudes and longitudes\n",
    "lat_range = (-90, 90)\n",
    "lng_range = (-180, 180)"
   ]
  },
  {
   "cell_type": "markdown",
   "metadata": {},
   "source": [
    "## Generate Cities List"
   ]
  },
  {
   "cell_type": "code",
   "execution_count": 2,
   "metadata": {},
   "outputs": [
    {
     "data": {
      "text/plain": [
       "607"
      ]
     },
     "execution_count": 2,
     "metadata": {},
     "output_type": "execute_result"
    }
   ],
   "source": [
    "# List for holding lat_lngs and cities\n",
    "lat_lngs = []\n",
    "cities = []\n",
    "\n",
    "# Create a set of random lat and lng combinations\n",
    "lats = np.random.uniform(low=-90.000, high=90.000, size=1500)\n",
    "lngs = np.random.uniform(low=-180.000, high=180.000, size=1500)\n",
    "lat_lngs = zip(lats, lngs)\n",
    "\n",
    "# Identify nearest city for each lat, lng combination\n",
    "for lat_lng in lat_lngs:\n",
    "    city = citipy.nearest_city(lat_lng[0], lat_lng[1]).city_name\n",
    "    \n",
    "    # If the city is unique, then add it to a our cities list\n",
    "    if city not in cities:\n",
    "        cities.append(city)\n",
    "\n",
    "# Print the city count to confirm sufficient count\n",
    "len(cities)"
   ]
  },
  {
   "cell_type": "code",
   "execution_count": 5,
   "metadata": {},
   "outputs": [
    {
     "data": {
      "text/plain": [
       "{'coord': {'lon': -68.31, 'lat': -54.81},\n",
       " 'weather': [{'id': 601,\n",
       "   'main': 'Snow',\n",
       "   'description': 'snow',\n",
       "   'icon': '13d'}],\n",
       " 'base': 'stations',\n",
       " 'main': {'temp': 36.79,\n",
       "  'pressure': 992,\n",
       "  'humidity': 100,\n",
       "  'temp_min': 33.8,\n",
       "  'temp_max': 39.2},\n",
       " 'visibility': 2000,\n",
       " 'wind': {'speed': 23.04, 'deg': 230},\n",
       " 'clouds': {'all': 90},\n",
       " 'dt': 1563821049,\n",
       " 'sys': {'type': 1,\n",
       "  'id': 8303,\n",
       "  'message': 0.0064,\n",
       "  'country': 'AR',\n",
       "  'sunrise': 1563799132,\n",
       "  'sunset': 1563828008},\n",
       " 'timezone': -10800,\n",
       " 'id': 3833367,\n",
       " 'name': 'Ushuaia',\n",
       " 'cod': 200}"
      ]
     },
     "execution_count": 5,
     "metadata": {},
     "output_type": "execute_result"
    }
   ],
   "source": [
    "\n",
    "url = \"https://api.openweathermap.org/data/2.5/weather?\"\n",
    "# Build variable to convert tempature and wind speed units of measure\n",
    "units = \"imperial\"\n",
    "\n",
    "# Build list to hold quary data\n",
    "City = []\n",
    "Cloudiness = []\n",
    "Country = []\n",
    "Date = []\n",
    "Humidity = []\n",
    "Temperature = [] \n",
    "Latitude = []\n",
    "Longitude = []\n",
    "Wind_Speed = []\n",
    "\n",
    "try:\n",
    "    quarry_url = requests.get(f'{url}appid={api_key}&q={city}&units={units}').json()\n",
    "    time.sleep(1)\n",
    "    #print(quarry_url)\n",
    "    #print(quarry_url.keys())\n",
    "    City.append(quarry_url['name'])\n",
    "    Cloudiness.append(quarry_url['clouds']['all'])\n",
    "    Country.append(quarry_url['sys']['country'])\n",
    "    Date.append(quarry_url['dt'])\n",
    "    Humidity.append(quarry_url['main']['humidity'])\n",
    "    Temperature.append(quarry_url['main']['temp_max'])\n",
    "    Latitude.append(quarry_url['coord']['lat'])\n",
    "    Longitude.append(quarry_url['coord']['lon'])\n",
    "    Wind_Speed.append(quarry_url['wind']['speed'])\n",
    "except KeyError:\n",
    "    print(\"City not found. Skipping...\")\n",
    "quarry_url"
   ]
  },
  {
   "cell_type": "code",
   "execution_count": 66,
   "metadata": {
    "scrolled": true
   },
   "outputs": [
    {
     "name": "stdout",
     "output_type": "stream",
     "text": [
      "{'coord': {'lon': 18.42, 'lat': -33.93}, 'weather': [{'id': 501, 'main': 'Rain', 'description': 'moderate rain', 'icon': '10n'}], 'base': 'stations', 'main': {'temp': 57.02, 'pressure': 1009, 'humidity': 87, 'temp_min': 54, 'temp_max': 61}, 'visibility': 4000, 'wind': {'speed': 27.51, 'deg': 350}, 'clouds': {'all': 90}, 'dt': 1563820802, 'sys': {'type': 1, 'id': 1899, 'message': 0.0099, 'country': 'ZA', 'sunrise': 1563774356, 'sunset': 1563811152}, 'timezone': 7200, 'id': 3369157, 'name': 'Cape Town', 'cod': 200}\n"
     ]
    }
   ],
   "source": [
    "\n"
   ]
  },
  {
   "cell_type": "code",
   "execution_count": null,
   "metadata": {},
   "outputs": [],
   "source": [
    "#ict_keys(['coord', 'weather', 'base', 'main', 'visibility', 'wind', 'clouds', 'dt', 'sys', 'timezone', 'id', 'name', 'cod'])"
   ]
  },
  {
   "cell_type": "markdown",
   "metadata": {},
   "source": [
    "### Perform API Calls\n",
    "* Perform a weather check on each city using a series of successive API calls.\n",
    "* Include a print log of each city as it's being processed (with the city number and city name).\n"
   ]
  },
  {
   "cell_type": "code",
   "execution_count": null,
   "metadata": {},
   "outputs": [],
   "source": [
    "#Build counter to log cities\n",
    "count = 0\n",
    "for location in cities: \n",
    "    print(\"Beginng Data Retreval \\n ----------------------------\")\n",
    "    while (count < 50):\n",
    "        count =+ 1\n",
    "    print(f\"Processing Record len(cities) of Set {count} | {location}\")"
   ]
  },
  {
   "cell_type": "code",
   "execution_count": 20,
   "metadata": {},
   "outputs": [],
   "source": [
    "# Convert to DataFrame\n",
    "#quarry_url_df = pd.DataFrame(weather_data)"
   ]
  },
  {
   "cell_type": "markdown",
   "metadata": {},
   "source": [
    "### Convert Raw Data to DataFrame\n",
    "* Export the city data into a .csv.\n",
    "* Display the DataFrame"
   ]
  },
  {
   "cell_type": "code",
   "execution_count": 63,
   "metadata": {},
   "outputs": [],
   "source": [
    "weather_info.to_csv(\"weather_data.csv\", encoding=\"utf-8\", index=False)"
   ]
  },
  {
   "cell_type": "code",
   "execution_count": 34,
   "metadata": {
    "scrolled": true
   },
   "outputs": [
    {
     "data": {
      "text/html": [
       "<div>\n",
       "<style scoped>\n",
       "    .dataframe tbody tr th:only-of-type {\n",
       "        vertical-align: middle;\n",
       "    }\n",
       "\n",
       "    .dataframe tbody tr th {\n",
       "        vertical-align: top;\n",
       "    }\n",
       "\n",
       "    .dataframe thead th {\n",
       "        text-align: right;\n",
       "    }\n",
       "</style>\n",
       "<table border=\"1\" class=\"dataframe\">\n",
       "  <thead>\n",
       "    <tr style=\"text-align: right;\">\n",
       "      <th></th>\n",
       "      <th>City</th>\n",
       "      <th>Cloudiness</th>\n",
       "      <th>Country</th>\n",
       "      <th>Date</th>\n",
       "      <th>Humidity</th>\n",
       "      <th>Latitude</th>\n",
       "      <th>Longitude</th>\n",
       "      <th>Max Temp</th>\n",
       "      <th>Wind Speed</th>\n",
       "    </tr>\n",
       "  </thead>\n",
       "  <tbody>\n",
       "    <tr>\n",
       "      <th>0</th>\n",
       "      <td>Cape Town</td>\n",
       "      <td>90</td>\n",
       "      <td>ZA</td>\n",
       "      <td>1563819851</td>\n",
       "      <td>87</td>\n",
       "      <td>-33.93</td>\n",
       "      <td>18.42</td>\n",
       "      <td>61</td>\n",
       "      <td>27.51</td>\n",
       "    </tr>\n",
       "    <tr>\n",
       "      <th>1</th>\n",
       "      <td>Cape Town</td>\n",
       "      <td>90</td>\n",
       "      <td>ZA</td>\n",
       "      <td>1563819851</td>\n",
       "      <td>87</td>\n",
       "      <td>-33.93</td>\n",
       "      <td>18.42</td>\n",
       "      <td>61</td>\n",
       "      <td>27.51</td>\n",
       "    </tr>\n",
       "  </tbody>\n",
       "</table>\n",
       "</div>"
      ],
      "text/plain": [
       "        City  Cloudiness Country        Date  Humidity  Latitude  Longitude  \\\n",
       "0  Cape Town          90      ZA  1563819851        87    -33.93      18.42   \n",
       "1  Cape Town          90      ZA  1563819851        87    -33.93      18.42   \n",
       "\n",
       "   Max Temp  Wind Speed  \n",
       "0        61       27.51  \n",
       "1        61       27.51  "
      ]
     },
     "execution_count": 34,
     "metadata": {},
     "output_type": "execute_result"
    }
   ],
   "source": [
    "#Create Dataframe with City Data\n",
    "weather_info = pd.DataFrame({\"City\":City,\"Cloudiness\":Cloudiness,\"Country\":Country,\"Date\":Date,\"Humidity\":Humidity,\n",
    "                             \"Latitude\":Latitude,\"Longitude\":Longitude,\"Max Temp\":Temperature,\"Wind Speed\":Wind_Speed})\n",
    "weather_info"
   ]
  },
  {
   "cell_type": "markdown",
   "metadata": {},
   "source": [
    "### Plotting the Data\n",
    "* Use proper labeling of the plots using plot titles (including date of analysis) and axes labels.\n",
    "* Save the plotted figures as .pngs."
   ]
  },
  {
   "cell_type": "code",
   "execution_count": 60,
   "metadata": {},
   "outputs": [],
   "source": [
    "#Create a function which develops plot & plot lables\n",
    "\n",
    "def plot_info(x=None, y=None):\n",
    "    today = datetime.now()\n",
    "    today_str = today.strftime('%m/%d/%Y')\n",
    "    plt.title(f\" City {x} vs. {y} {today_str}\")\n",
    "\n",
    "    x_array = weather_info[x]\n",
    "    y_array = weather_info[y]\n",
    "    \n",
    "# Incorporate the other graph properties       \n",
    "    plt.scatter(x_array,y_array)    \n",
    "    plt.xlabel(\"Latitude\")\n",
    "    plt.ylabel(y)\n",
    "    plt.grid()\n",
    "    \n",
    "# Save Figure\n",
    "    plt.savefig(f'image_{y}.png')\n",
    "    plt.show()"
   ]
  },
  {
   "cell_type": "markdown",
   "metadata": {},
   "source": [
    "#### Latitude vs. Temperature Plot"
   ]
  },
  {
   "cell_type": "code",
   "execution_count": 61,
   "metadata": {},
   "outputs": [
    {
     "data": {
      "image/png": "[encoded data removed]",
      "text/plain": [
       "<Figure size 432x288 with 1 Axes>"
      ]
     },
     "metadata": {
      "needs_background": "light"
     },
     "output_type": "display_data"
    }
   ],
   "source": [
    "plot_info('Latitude', 'Max Temp')"
   ]
  },
  {
   "cell_type": "markdown",
   "metadata": {},
   "source": [
    "#### Latitude vs. Humidity Plot"
   ]
  },
  {
   "cell_type": "code",
   "execution_count": 53,
   "metadata": {},
   "outputs": [
    {
     "data": {
      "image/png": "[encoded data removed]",
      "text/plain": [
       "<Figure size 432x288 with 1 Axes>"
      ]
     },
     "metadata": {
      "needs_background": "light"
     },
     "output_type": "display_data"
    }
   ],
   "source": [
    "plot_info('Latitude', 'Humidity')"
   ]
  },
  {
   "cell_type": "markdown",
   "metadata": {},
   "source": [
    "#### Latitude vs. Cloudiness Plot"
   ]
  },
  {
   "cell_type": "code",
   "execution_count": 58,
   "metadata": {},
   "outputs": [
    {
     "data": {
      "image/png": "[encoded data removed]",
      "text/plain": [
       "<Figure size 432x288 with 1 Axes>"
      ]
     },
     "metadata": {
      "needs_background": "light"
     },
     "output_type": "display_data"
    }
   ],
   "source": [
    "plot_info('Latitude', 'Cloudiness')"
   ]
  },
  {
   "cell_type": "markdown",
   "metadata": {},
   "source": [
    "#### Latitude vs. Wind Speed Plot"
   ]
  },
  {
   "cell_type": "code",
   "execution_count": 59,
   "metadata": {},
   "outputs": [
    {
     "data": {
      "image/png": "[encoded data removed]",
      "text/plain": [
       "<Figure size 432x288 with 1 Axes>"
      ]
     },
     "metadata": {
      "needs_background": "light"
     },
     "output_type": "display_data"
    }
   ],
   "source": [
    "plot_info('Latitude', 'Wind Speed')"
   ]
  },
  {
   "cell_type": "markdown",
   "metadata": {},
   "source": [
    "# Appraching the equator, weather conclusions:\n",
    "\n",
    "1.\n",
    "2.\n",
    "3.\n"
   ]
  }
 ],
 "metadata": {
  "anaconda-cloud": {},
  "kernel_info": {
   "name": "python3"
  },
  "kernelspec": {
   "display_name": "Python 3",
   "language": "python",
   "name": "python3"
  },
  "language_info": {
   "codemirror_mode": {
    "name": "ipython",
    "version": 3
   },
   "file_extension": ".py",
   "mimetype": "text/x-python",
   "name": "python",
   "nbconvert_exporter": "python",
   "pygments_lexer": "ipython3",
   "version": "3.7.3"
  },
  "nteract": {
   "version": "0.12.3"
  }
 },
 "nbformat": 4,
 "nbformat_minor": 2
}
