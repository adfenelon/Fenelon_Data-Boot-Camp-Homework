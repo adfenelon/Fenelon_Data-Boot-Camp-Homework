{
 "cells": [
  {
   "cell_type": "markdown",
   "metadata": {},
   "source": [
    "# WeatherPy\n",
    "----\n",
    "\n",
    "#### Note\n",
    "* Instructions have been included for each segment. You do not have to follow them exactly, but they are included to help you think through the steps."
   ]
  },
  {
   "cell_type": "code",
   "execution_count": 4,
   "metadata": {
    "scrolled": true
   },
   "outputs": [],
   "source": [
    "# Dependencies and Setup\n",
    "import matplotlib.pyplot as plt\n",
    "import pandas as pd\n",
    "import numpy as np\n",
    "import requests\n",
    "import time\n",
    "import json\n",
    "from datetime import datetime\n",
    "\n",
    "# Import API key\n",
    "from api_keys import api_key\n",
    "\n",
    "# Incorporated citipy to determine city based on latitude and longitude\n",
    "from citipy import citipy\n",
    "\n",
    "# Output File (CSV)\n",
    "output_data_file = \"output_data/cities.csv\"\n",
    "\n",
    "# Range of latitudes and longitudes\n",
    "lat_range = (-90, 90)\n",
    "lng_range = (-180, 180)"
   ]
  },
  {
   "cell_type": "markdown",
   "metadata": {},
   "source": [
    "## Generate Cities List"
   ]
  },
  {
   "cell_type": "code",
   "execution_count": 5,
   "metadata": {},
   "outputs": [
    {
     "data": {
      "text/plain": [
       "587"
      ]
     },
     "execution_count": 5,
     "metadata": {},
     "output_type": "execute_result"
    }
   ],
   "source": [
    "# List for holding lat_lngs and cities\n",
    "lat_lngs = []\n",
    "cities = []\n",
    "\n",
    "# Create a set of random lat and lng combinations\n",
    "lats = np.random.uniform(low=-90.000, high=90.000, size=1500)\n",
    "lngs = np.random.uniform(low=-180.000, high=180.000, size=1500)\n",
    "lat_lngs = zip(lats, lngs)\n",
    "\n",
    "# Identify nearest city for each lat, lng combination\n",
    "for lat_lng in lat_lngs:\n",
    "    city = citipy.nearest_city(lat_lng[0], lat_lng[1]).city_name\n",
    "    \n",
    "    # If the city is unique, then add it to a our cities list\n",
    "    if city not in cities:\n",
    "        cities.append(city)\n",
    "\n",
    "# Print the city count to confirm sufficient count\n",
    "len(cities)"
   ]
  },
  {
   "cell_type": "code",
   "execution_count": null,
   "metadata": {},
   "outputs": [],
   "source": [
    "url = \"https://api.openweathermap.org/data/2.5/weather?\"\n",
    "units = \"imperial\"\n",
    "\n",
    "City = []\n",
    "Cloudiness = []\n",
    "Country = []\n",
    "Date = []\n",
    "Humidity = []\n",
    "Temperature = [] \n",
    "Latitude = []\n",
    "Longitude = []\n",
    "Wind_Speed = []\n",
    "\n",
    "count = 0\n",
    "\n",
    "#for city in cities[:2]: \n",
    "#    while (count < 50):\n",
    " #       count =+ 1\n",
    "#        print(\"a\")\n",
    "    try:\n",
    "        quarry_url = requests.get(f'{url}appid={api_key}&q={city}&units={units}').json()\n",
    "        time.sleep(1)\n",
    "        print(quarry_url[:2])\n",
    "        #print(quarry_url.keys())\n",
    "        City.append(quarry_url['name'])\n",
    "        Cloudiness.append(quarry_url['clouds']['all'])\n",
    "        Country.append(quarry_url['sys']['country'])\n",
    "        Date.append(quarry_url['dt'])\n",
    "        Humidity.append(quarry_url['main']['humidity'])\n",
    "        Temperature.append(quarry_url['main']['temp_max'])\n",
    "        Longitude.append(quarry_url['coord']['lat'])\n",
    "        Longitude.append(quarry_url['coord']['lon'])\n",
    "        Wind_Speed.append(quarry_url['wind']['speed'])\n",
    "    except KeyError:\n",
    "        print(\"City not found. Skipping...\")\n"
   ]
  },
  {
   "cell_type": "markdown",
   "metadata": {},
   "source": [
    "### Perform API Calls\n",
    "* Perform a weather check on each city using a series of successive API calls.\n",
    "* Include a print log of each city as it's being processed (with the city number and city name).\n"
   ]
  },
  {
   "cell_type": "code",
   "execution_count": null,
   "metadata": {},
   "outputs": [],
   "source": []
  },
  {
   "cell_type": "code",
   "execution_count": null,
   "metadata": {},
   "outputs": [],
   "source": []
  },
  {
   "cell_type": "code",
   "execution_count": null,
   "metadata": {},
   "outputs": [],
   "source": []
  },
  {
   "cell_type": "markdown",
   "metadata": {},
   "source": [
    "### Convert Raw Data to DataFrame\n",
    "* Export the city data into a .csv.\n",
    "* Display the DataFrame"
   ]
  },
  {
   "cell_type": "code",
   "execution_count": null,
   "metadata": {},
   "outputs": [],
   "source": [
    "quarry_url.to_csv(\"weather_data.csv\", encoding=\"utf-8\", index=False)"
   ]
  },
  {
   "cell_type": "code",
   "execution_count": null,
   "metadata": {},
   "outputs": [],
   "source": [
    "quarry_url.to_csv(\"weather_data.csv\", encoding=\"utf-8\", index=False)"
   ]
  },
  {
   "cell_type": "code",
   "execution_count": 6,
   "metadata": {},
   "outputs": [
    {
     "data": {
      "text/html": [
       "<div>\n",
       "<style scoped>\n",
       "    .dataframe tbody tr th:only-of-type {\n",
       "        vertical-align: middle;\n",
       "    }\n",
       "\n",
       "    .dataframe tbody tr th {\n",
       "        vertical-align: top;\n",
       "    }\n",
       "\n",
       "    .dataframe thead th {\n",
       "        text-align: right;\n",
       "    }\n",
       "</style>\n",
       "<table border=\"1\" class=\"dataframe\">\n",
       "  <thead>\n",
       "    <tr style=\"text-align: right;\">\n",
       "      <th></th>\n",
       "      <th>City</th>\n",
       "      <th>Cloudiness</th>\n",
       "      <th>Country</th>\n",
       "      <th>Date</th>\n",
       "      <th>Humidity</th>\n",
       "      <th>Lat</th>\n",
       "      <th>Lng</th>\n",
       "      <th>Max Temp</th>\n",
       "      <th>Wind Speed</th>\n",
       "    </tr>\n",
       "  </thead>\n",
       "  <tbody>\n",
       "    <tr>\n",
       "      <th>0</th>\n",
       "      <td>Rocha</td>\n",
       "      <td>36</td>\n",
       "      <td>UY</td>\n",
       "      <td>1563471086</td>\n",
       "      <td>71</td>\n",
       "      <td>-34.48</td>\n",
       "      <td>-54.34</td>\n",
       "      <td>61.61</td>\n",
       "      <td>6.35</td>\n",
       "    </tr>\n",
       "    <tr>\n",
       "      <th>1</th>\n",
       "      <td>Lagoa</td>\n",
       "      <td>0</td>\n",
       "      <td>PT</td>\n",
       "      <td>1563471250</td>\n",
       "      <td>60</td>\n",
       "      <td>37.14</td>\n",
       "      <td>-8.45</td>\n",
       "      <td>81.00</td>\n",
       "      <td>9.17</td>\n",
       "    </tr>\n",
       "    <tr>\n",
       "      <th>2</th>\n",
       "      <td>Souillac</td>\n",
       "      <td>0</td>\n",
       "      <td>FR</td>\n",
       "      <td>1563471250</td>\n",
       "      <td>56</td>\n",
       "      <td>45.60</td>\n",
       "      <td>-0.60</td>\n",
       "      <td>77.00</td>\n",
       "      <td>12.75</td>\n",
       "    </tr>\n",
       "    <tr>\n",
       "      <th>3</th>\n",
       "      <td>Nouadhibou</td>\n",
       "      <td>0</td>\n",
       "      <td>MR</td>\n",
       "      <td>1563471251</td>\n",
       "      <td>73</td>\n",
       "      <td>20.93</td>\n",
       "      <td>-17.03</td>\n",
       "      <td>71.60</td>\n",
       "      <td>26.40</td>\n",
       "    </tr>\n",
       "    <tr>\n",
       "      <th>4</th>\n",
       "      <td>Aasiaat</td>\n",
       "      <td>100</td>\n",
       "      <td>GL</td>\n",
       "      <td>1563471251</td>\n",
       "      <td>97</td>\n",
       "      <td>68.71</td>\n",
       "      <td>-52.87</td>\n",
       "      <td>42.35</td>\n",
       "      <td>7.38</td>\n",
       "    </tr>\n",
       "    <tr>\n",
       "      <th>5</th>\n",
       "      <td>Marawi</td>\n",
       "      <td>23</td>\n",
       "      <td>PH</td>\n",
       "      <td>1563471251</td>\n",
       "      <td>90</td>\n",
       "      <td>8.00</td>\n",
       "      <td>124.29</td>\n",
       "      <td>75.00</td>\n",
       "      <td>5.99</td>\n",
       "    </tr>\n",
       "    <tr>\n",
       "      <th>6</th>\n",
       "      <td>Bugojno</td>\n",
       "      <td>87</td>\n",
       "      <td>BA</td>\n",
       "      <td>1563471252</td>\n",
       "      <td>85</td>\n",
       "      <td>44.05</td>\n",
       "      <td>17.45</td>\n",
       "      <td>56.75</td>\n",
       "      <td>2.10</td>\n",
       "    </tr>\n",
       "    <tr>\n",
       "      <th>7</th>\n",
       "      <td>Sur</td>\n",
       "      <td>0</td>\n",
       "      <td>OM</td>\n",
       "      <td>1563471252</td>\n",
       "      <td>61</td>\n",
       "      <td>22.57</td>\n",
       "      <td>59.53</td>\n",
       "      <td>84.47</td>\n",
       "      <td>8.50</td>\n",
       "    </tr>\n",
       "    <tr>\n",
       "      <th>8</th>\n",
       "      <td>Vallenar</td>\n",
       "      <td>3</td>\n",
       "      <td>CL</td>\n",
       "      <td>1563471253</td>\n",
       "      <td>37</td>\n",
       "      <td>-28.58</td>\n",
       "      <td>-70.76</td>\n",
       "      <td>69.89</td>\n",
       "      <td>8.99</td>\n",
       "    </tr>\n",
       "    <tr>\n",
       "      <th>9</th>\n",
       "      <td>Hilo</td>\n",
       "      <td>40</td>\n",
       "      <td>US</td>\n",
       "      <td>1563471253</td>\n",
       "      <td>78</td>\n",
       "      <td>19.71</td>\n",
       "      <td>-155.08</td>\n",
       "      <td>75.00</td>\n",
       "      <td>6.93</td>\n",
       "    </tr>\n",
       "    <tr>\n",
       "      <th>10</th>\n",
       "      <td>Hobart</td>\n",
       "      <td>40</td>\n",
       "      <td>AU</td>\n",
       "      <td>1563471241</td>\n",
       "      <td>70</td>\n",
       "      <td>-42.88</td>\n",
       "      <td>147.33</td>\n",
       "      <td>46.99</td>\n",
       "      <td>10.29</td>\n",
       "    </tr>\n",
       "    <tr>\n",
       "      <th>11</th>\n",
       "      <td>Ota</td>\n",
       "      <td>40</td>\n",
       "      <td>JP</td>\n",
       "      <td>1563470957</td>\n",
       "      <td>94</td>\n",
       "      <td>36.29</td>\n",
       "      <td>139.38</td>\n",
       "      <td>79.00</td>\n",
       "      <td>5.82</td>\n",
       "    </tr>\n",
       "    <tr>\n",
       "      <th>12</th>\n",
       "      <td>Joensuu</td>\n",
       "      <td>0</td>\n",
       "      <td>FI</td>\n",
       "      <td>1563471254</td>\n",
       "      <td>77</td>\n",
       "      <td>62.60</td>\n",
       "      <td>29.76</td>\n",
       "      <td>64.40</td>\n",
       "      <td>6.93</td>\n",
       "    </tr>\n",
       "    <tr>\n",
       "      <th>13</th>\n",
       "      <td>Upernavik</td>\n",
       "      <td>85</td>\n",
       "      <td>GL</td>\n",
       "      <td>1563471254</td>\n",
       "      <td>76</td>\n",
       "      <td>72.79</td>\n",
       "      <td>-56.15</td>\n",
       "      <td>47.03</td>\n",
       "      <td>12.10</td>\n",
       "    </tr>\n",
       "    <tr>\n",
       "      <th>14</th>\n",
       "      <td>Peniche</td>\n",
       "      <td>0</td>\n",
       "      <td>PT</td>\n",
       "      <td>1563471254</td>\n",
       "      <td>36</td>\n",
       "      <td>39.36</td>\n",
       "      <td>-9.38</td>\n",
       "      <td>81.00</td>\n",
       "      <td>16.11</td>\n",
       "    </tr>\n",
       "    <tr>\n",
       "      <th>15</th>\n",
       "      <td>Nuuk</td>\n",
       "      <td>75</td>\n",
       "      <td>GL</td>\n",
       "      <td>1563471255</td>\n",
       "      <td>81</td>\n",
       "      <td>64.17</td>\n",
       "      <td>-51.74</td>\n",
       "      <td>50.00</td>\n",
       "      <td>20.80</td>\n",
       "    </tr>\n",
       "    <tr>\n",
       "      <th>16</th>\n",
       "      <td>Keti Bandar</td>\n",
       "      <td>0</td>\n",
       "      <td>PK</td>\n",
       "      <td>1563471255</td>\n",
       "      <td>83</td>\n",
       "      <td>24.14</td>\n",
       "      <td>67.45</td>\n",
       "      <td>82.31</td>\n",
       "      <td>16.96</td>\n",
       "    </tr>\n",
       "  </tbody>\n",
       "</table>\n",
       "</div>"
      ],
      "text/plain": [
       "           City  Cloudiness Country        Date  Humidity    Lat     Lng  \\\n",
       "0         Rocha          36      UY  1563471086        71 -34.48  -54.34   \n",
       "1         Lagoa           0      PT  1563471250        60  37.14   -8.45   \n",
       "2      Souillac           0      FR  1563471250        56  45.60   -0.60   \n",
       "3    Nouadhibou           0      MR  1563471251        73  20.93  -17.03   \n",
       "4       Aasiaat         100      GL  1563471251        97  68.71  -52.87   \n",
       "5        Marawi          23      PH  1563471251        90   8.00  124.29   \n",
       "6       Bugojno          87      BA  1563471252        85  44.05   17.45   \n",
       "7           Sur           0      OM  1563471252        61  22.57   59.53   \n",
       "8      Vallenar           3      CL  1563471253        37 -28.58  -70.76   \n",
       "9          Hilo          40      US  1563471253        78  19.71 -155.08   \n",
       "10       Hobart          40      AU  1563471241        70 -42.88  147.33   \n",
       "11          Ota          40      JP  1563470957        94  36.29  139.38   \n",
       "12      Joensuu           0      FI  1563471254        77  62.60   29.76   \n",
       "13    Upernavik          85      GL  1563471254        76  72.79  -56.15   \n",
       "14      Peniche           0      PT  1563471254        36  39.36   -9.38   \n",
       "15         Nuuk          75      GL  1563471255        81  64.17  -51.74   \n",
       "16  Keti Bandar           0      PK  1563471255        83  24.14   67.45   \n",
       "\n",
       "    Max Temp  Wind Speed  \n",
       "0      61.61        6.35  \n",
       "1      81.00        9.17  \n",
       "2      77.00       12.75  \n",
       "3      71.60       26.40  \n",
       "4      42.35        7.38  \n",
       "5      75.00        5.99  \n",
       "6      56.75        2.10  \n",
       "7      84.47        8.50  \n",
       "8      69.89        8.99  \n",
       "9      75.00        6.93  \n",
       "10     46.99       10.29  \n",
       "11     79.00        5.82  \n",
       "12     64.40        6.93  \n",
       "13     47.03       12.10  \n",
       "14     81.00       16.11  \n",
       "15     50.00       20.80  \n",
       "16     82.31       16.96  "
      ]
     },
     "execution_count": 6,
     "metadata": {},
     "output_type": "execute_result"
    }
   ],
   "source": [
    "#Create Dataframe with City Data\n",
    "weather_df = pd.DataFrame({\"City\":City,\"Cloudiness\":Cloudiness,\"Country\":Country,\"Date\":Date,\"Humidity\":Humidity,\n",
    "                           \"Latitude\":Lat,\"Longitude\":Lng,\"Max Temp\":Temperature,\"Wind Speed\":Wind_Speed})\n",
    "weather_df"
   ]
  },
  {
   "cell_type": "code",
   "execution_count": null,
   "metadata": {},
   "outputs": [],
   "source": []
  },
  {
   "cell_type": "code",
   "execution_count": null,
   "metadata": {},
   "outputs": [],
   "source": []
  },
  {
   "cell_type": "markdown",
   "metadata": {},
   "source": [
    "### Plotting the Data\n",
    "* Use proper labeling of the plots using plot titles (including date of analysis) and axes labels.\n",
    "* Save the plotted figures as .pngs."
   ]
  },
  {
   "cell_type": "code",
   "execution_count": 28,
   "metadata": {},
   "outputs": [],
   "source": [
    "#Create a function which develops plot\n",
    "\n",
    "def plot_info(x=None, y=None):\n",
    "    today = datetime.now()\n",
    "    today_str = today.strftime('%m/%d/%Y')\n",
    "    plt.title(f\" {x}, vs. ,{y},{today_str}\")\n",
    "\n",
    "    x_array = weather_df[x]\n",
    "    y_array = weather_df[y]\n",
    "    \n",
    "# Incorporate the other graph properties       \n",
    "    plt.scatter(x_array,y_array)    \n",
    "    plt.xlabel(\"Latitude\")\n",
    "    plt.ylabel(\"Mx Temperature (F)\")\n",
    "    plt.grid()\n",
    "    \n",
    "# Save Figure\n",
    "    plt.savefig(f'image_{y}.png')\n",
    "    \n",
    "    plt.show()"
   ]
  },
  {
   "cell_type": "markdown",
   "metadata": {},
   "source": [
    "#### Latitude vs. Temperature Plot"
   ]
  },
  {
   "cell_type": "code",
   "execution_count": null,
   "metadata": {},
   "outputs": [],
   "source": [
    "print(plot_info('Lat', 'Max Temp'))"
   ]
  },
  {
   "cell_type": "code",
   "execution_count": null,
   "metadata": {},
   "outputs": [],
   "source": [
    "plt.scatter(Lat,Temperature)\n",
    "\n",
    "\n",
    "# Incorporate the other graph properties\n",
    "plt.title(\"City Latitude vs. Temperature (07/20/19)\")\n",
    "plt.xlabel(\"Latitude\")\n",
    "plt.ylabel(\"Max Temperature (F)\")\n",
    "plt.grid()\n",
    "\n",
    "\n",
    "# Incorporate a text label regarding circle size\n",
    "#plt.text(45,35,\"Note:\\nCircle size correllates with driver count per city\")\n",
    "\n",
    "# Save Figure\n",
    "plt.savefig(\"Image.CityMaxTemp.png\")\n",
    "\n",
    "plt.show()"
   ]
  },
  {
   "cell_type": "code",
   "execution_count": null,
   "metadata": {
    "scrolled": true
   },
   "outputs": [],
   "source": []
  },
  {
   "cell_type": "markdown",
   "metadata": {},
   "source": [
    "#### Latitude vs. Humidity Plot"
   ]
  },
  {
   "cell_type": "code",
   "execution_count": 27,
   "metadata": {},
   "outputs": [
    {
     "data": {
      "image/png": "[encoded data removed]",
      "text/plain": [
       "<Figure size 432x288 with 1 Axes>"
      ]
     },
     "metadata": {
      "needs_background": "light"
     },
     "output_type": "display_data"
    }
   ],
   "source": [
    "plot_info('Lat', 'Humidity')"
   ]
  },
  {
   "cell_type": "code",
   "execution_count": 25,
   "metadata": {},
   "outputs": [
    {
     "data": {
      "image/png": "[encoded data removed]",
      "text/plain": [
       "<Figure size 432x288 with 1 Axes>"
      ]
     },
     "metadata": {
      "needs_background": "light"
     },
     "output_type": "display_data"
    }
   ],
   "source": [
    "plt.scatter(Lat,Humidity)\n",
    "\n",
    "# Incorporate the other graph properties\n",
    "plt.title(\"City Latitude vs. Humidity (07/20/19)\")\n",
    "plt.xlabel(\"Latitude\")\n",
    "plt.ylabel(\"Humidity (%)\")\n",
    "plt.grid()\n",
    "\n",
    "# Save Figure\n",
    "plt.savefig(\"CityHumidity.png\")\n",
    "\n",
    "plt.show()"
   ]
  },
  {
   "cell_type": "code",
   "execution_count": null,
   "metadata": {
    "scrolled": false
   },
   "outputs": [],
   "source": []
  },
  {
   "cell_type": "code",
   "execution_count": null,
   "metadata": {},
   "outputs": [],
   "source": []
  },
  {
   "cell_type": "code",
   "execution_count": null,
   "metadata": {},
   "outputs": [],
   "source": []
  },
  {
   "cell_type": "code",
   "execution_count": null,
   "metadata": {},
   "outputs": [],
   "source": [
    "plt.scatter(Lat,Cloudiness)\n",
    "\n",
    "\n",
    "# Incorporate the other graph properties\n",
    "plt.title(\"City Latitude vs. Cloudiness (07/20/19)\")\n",
    "plt.xlabel(\"Latitude\")\n",
    "plt.ylabel(\"Cloudiness (%)\")\n",
    "plt.grid()\n",
    "\n",
    "# Save Figureplt.savefig(\"CityCloudiness.png\")\n",
    "\n",
    "\n",
    "plt.show()"
   ]
  },
  {
   "cell_type": "markdown",
   "metadata": {},
   "source": [
    "#### Latitude vs. Cloudiness Plot"
   ]
  },
  {
   "cell_type": "code",
   "execution_count": null,
   "metadata": {
    "scrolled": false
   },
   "outputs": [],
   "source": []
  },
  {
   "cell_type": "code",
   "execution_count": null,
   "metadata": {},
   "outputs": [],
   "source": []
  },
  {
   "cell_type": "code",
   "execution_count": null,
   "metadata": {},
   "outputs": [],
   "source": [
    "plt.scatter(Lat,Wind_Speed)\n",
    "\n",
    "# Incorporate the other graph properties\n",
    "plt.title(\"City Latitude vs. Wind Speed (07/20/19)\")\n",
    "plt.xlabel(\"Latitude\")\n",
    "plt.ylabel(\"Wind Speed (mph)\")\n",
    "plt.grid()\n",
    "\n",
    "# Save Figure\n",
    "#plt.savefig(\"CityWindSpeed.png\")\n",
    "\n",
    "plt.show()"
   ]
  },
  {
   "cell_type": "markdown",
   "metadata": {},
   "source": [
    "#### Latitude vs. Wind Speed Plot"
   ]
  },
  {
   "cell_type": "code",
   "execution_count": null,
   "metadata": {},
   "outputs": [],
   "source": []
  },
  {
   "cell_type": "code",
   "execution_count": null,
   "metadata": {},
   "outputs": [],
   "source": []
  },
  {
   "cell_type": "markdown",
   "metadata": {},
   "source": [
    "# Appraching the equator, weather conclusions:\n",
    "\n",
    "1.\n",
    "2.\n",
    "3.\n"
   ]
  }
 ],
 "metadata": {
  "anaconda-cloud": {},
  "kernel_info": {
   "name": "python3"
  },
  "kernelspec": {
   "display_name": "Python 3",
   "language": "python",
   "name": "python3"
  },
  "language_info": {
   "codemirror_mode": {
    "name": "ipython",
    "version": 3
   },
   "file_extension": ".py",
   "mimetype": "text/x-python",
   "name": "python",
   "nbconvert_exporter": "python",
   "pygments_lexer": "ipython3",
   "version": "3.7.3"
  },
  "nteract": {
   "version": "0.12.3"
  }
 },
 "nbformat": 4,
 "nbformat_minor": 2
}
